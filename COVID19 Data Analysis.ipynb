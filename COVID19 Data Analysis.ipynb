{
 "cells": [
  {
   "cell_type": "markdown",
   "id": "a719e3b8-4c7b-43db-a8cd-73ce6493a9b7",
   "metadata": {},
   "source": [
    "# EAS 503 Programming and Database Fundamentals for Data Science Major Project"
   ]
  },
  {
   "cell_type": "markdown",
   "id": "adf646c7-20f3-48d0-8183-72f1ac831b6d",
   "metadata": {},
   "source": [
    "## COVID-19 Outcomes by Testing Cohorts: Cases, Hospitalizations, and Deaths"
   ]
  },
  {
   "cell_type": "markdown",
   "id": "f32c6b5a-290a-4d27-a6a1-1bf5e89c6741",
   "metadata": {},
   "source": [
    "## Group 94:\n",
    "#### 1. Chinmaya Lakshmi Rupa Devi Seelam - 50538411\n",
    "#### 2.  Indra Kiran Reddy Bonthu - 50518805\n",
    "#### 3. Mounika Male - 50541143\n",
    "#### 4. Mallikarjun Reddy Reddy - 50537829"
   ]
  },
  {
   "cell_type": "markdown",
   "id": "0e33d7bd-f086-4352-b942-5b7e974bcae6",
   "metadata": {},
   "source": [
    "## Problem Statement\n",
    "\n",
    "- As we tend to observe about the new variants(JN1 which is a recent variant i.e, DEC. 14, 2023) of covid here and there, the primary goal is to derive meaningful insights and actionable information to support public health decision-making and crisis management. "
   ]
  },
  {
   "cell_type": "markdown",
   "id": "07ebb179-54de-4abf-aa8a-a5f5f35d4b28",
   "metadata": {},
   "source": [
    "## Data Description\n",
    "\n",
    "- The data is taken from: https://data.cityofnewyork.us/Health/COVID-19-Outcomes-by-Testing-Cohorts-Cases-Hospita/cwmx-mvra\n",
    "\n",
    "- It contains 176k rows and 6 columns"
   ]
  },
  {
   "cell_type": "markdown",
   "id": "3ddf4e45-bc5a-4b9d-bd05-c8a1f1708f3f",
   "metadata": {},
   "source": [
    "#### Columns in this Dataset\n",
    "\n",
    "1. extract_date : Date of extraction from live disease surveillance database.\n",
    "2. specimen_date : Date of specimen collection, equivalent to diagnosis date.\n",
    "3. Number_tested : Count of NYC residents newly tested for SARS-CoV-2.\n",
    "4. Number_confirmed : Count of patients tested who were confirmed to be COVID-19 cases.\n",
    "5. Number_hospitalized : Count of confirmed COVID-19 cases among patients ever hospitalized.\n",
    "6. Number_deaths : Count of confirmed COVID-19 cases among patients who died."
   ]
  },
  {
   "cell_type": "code",
   "execution_count": 1,
   "id": "4983df72-c03f-43ce-b64d-bb64c9d9ee53",
   "metadata": {},
   "outputs": [],
   "source": [
    "import sqlite3\n",
    "from sqlite3 import Error\n",
    "file_path = \"/Users/indrakiranreddy/Desktop/COVID-19_Outcomes_by_Testing_Cohorts__Cases__Hospitalizations__and_Deaths.csv\""
   ]
  },
  {
   "cell_type": "markdown",
   "id": "72796f39-789b-4dae-951e-28c3a6160077",
   "metadata": {},
   "source": [
    "#### For creating a connection to an SQLite database, and the optional delete_db parameter allows for deleting the existing database file before creating a new one."
   ]
  },
  {
   "cell_type": "code",
   "execution_count": 2,
   "id": "3068cee7",
   "metadata": {},
   "outputs": [],
   "source": [
    "def create_connection(db_file, delete_db=False):\n",
    "    import os\n",
    "    if delete_db and os.path.exists(db_file):\n",
    "        os.remove(db_file)\n",
    "\n",
    "    conn = None\n",
    "    try:\n",
    "        conn = sqlite3.connect(db_file)\n",
    "        conn.execute(\"PRAGMA foreign_keys = 1\")\n",
    "    except Error as e:\n",
    "        print(e)\n",
    "\n",
    "    return conn"
   ]
  },
  {
   "cell_type": "markdown",
   "id": "ae3f05d5-26b3-43ec-9ffe-e5f72c381447",
   "metadata": {},
   "source": [
    "#### The purpose of this function is to create a table in the SQLite database specified by the connection object"
   ]
  },
  {
   "cell_type": "code",
   "execution_count": 3,
   "id": "4ac9ddc2",
   "metadata": {},
   "outputs": [],
   "source": [
    "def create_table(conn, create_table_sql):\n",
    "    try:\n",
    "        c = conn.cursor()\n",
    "        c.execute(create_table_sql)\n",
    "    except Error as e:\n",
    "        print(e)"
   ]
  },
  {
   "cell_type": "markdown",
   "id": "fe282725-10de-4455-895e-5eacd05814ec",
   "metadata": {},
   "source": [
    "#### Establish a connection to an SQLite database file named \"test1.db\".\n",
    "#### create cursor for executing SQL queries like inserting, deleting and fetching results from the database."
   ]
  },
  {
   "cell_type": "code",
   "execution_count": 4,
   "id": "16c654da",
   "metadata": {},
   "outputs": [],
   "source": [
    "create_normalized    = create_connection(\"test1.db\")\n",
    "cursor_normalized    = create_normalized.cursor()"
   ]
  },
  {
   "cell_type": "markdown",
   "id": "4d73c987-6cb3-4d53-8999-c66cda22a660",
   "metadata": {},
   "source": [
    "#### This code defines SQL statements to create three tables named DATEINFO, TESTINFO, and CASESINFO. These tables are designed to store information related to COVID-19 testing, including dates, test information, and case outcomes. These tables are designed with a relational structure, using foreign key relationships to link records across the DATEINFO, TESTINFO, and CASESINFO tables. This structure is common in relational database design, allowing for efficient data organization and retrieval."
   ]
  },
  {
   "cell_type": "code",
   "execution_count": 5,
   "id": "b3f24836",
   "metadata": {},
   "outputs": [],
   "source": [
    "create_date_table = \"\"\"CREATE TABLE IF NOT EXISTS DATEINFO (\n",
    "TEST_ID INTEGER PRIMARY KEY AUTOINCREMENT,\n",
    "EXTRACT_DATE DATE,\n",
    "SPECIMEN_DATE DATE); \"\"\"\n",
    "\n",
    "create_test_table = \"\"\"CREATE TABLE IF NOT EXISTS TESTINFO (\n",
    "TEST_ID INTEGER PRIMARY KEY AUTOINCREMENT,\n",
    "NUMBER_TESTED INTEGER,\n",
    "FOREIGN KEY (TEST_ID) REFERENCES DATEINFO(TEST_ID)\n",
    "); \"\"\"\n",
    "\n",
    "create_cases_table = \"\"\"CREATE TABLE IF NOT EXISTS CASESINFO (\n",
    "TEST_ID INTEGER PRIMARY KEY AUTOINCREMENT,\n",
    "NUMBER_CONFIRMED INTEGER,\n",
    "NUMBER_HOSPITALIZED INTEGER,\n",
    "NUMBER_DEATHS INTEGER,\n",
    "FOREIGN KEY (TEST_ID) REFERENCES DATEINFO(TEST_ID)\n",
    ");\"\"\""
   ]
  },
  {
   "cell_type": "markdown",
   "id": "06a51093-4626-42e1-b3f7-3c4ced05ad77",
   "metadata": {},
   "source": [
    "#### This code reads data from a CSV file and performs data parsing and data processing "
   ]
  },
  {
   "cell_type": "code",
   "execution_count": 6,
   "id": "39a417e1",
   "metadata": {},
   "outputs": [
    {
     "name": "stdout",
     "output_type": "stream",
     "text": [
      "[{'extract_date': '08/19/2021', 'specimen_date': '03/24/2020', 'Number_tested': '7210', 'Number_confirmed': '4897', 'Number_hospitalized': '1439', 'Number_deaths': '580'}, {'extract_date': '08/04/2021', 'specimen_date': '07/31/2020', 'Number_tested': '15525', 'Number_confirmed': '1265', 'Number_hospitalized': '140', 'Number_deaths': '28'}, {'extract_date': '08/17/2021', 'specimen_date': '06/05/2020', 'Number_tested': '14535', 'Number_confirmed': '1377', 'Number_hospitalized': '193', 'Number_deaths': '46'}, {'extract_date': '04/27/2021', 'specimen_date': '12/19/2020', 'Number_tested': '12553', 'Number_confirmed': '2029', 'Number_hospitalized': '189', 'Number_deaths': '30'}, {'extract_date': '01/19/2021', 'specimen_date': '10/21/2020', 'Number_tested': '17136', 'Number_confirmed': '839', 'Number_hospitalized': '63', 'Number_deaths': '8'}]\n"
     ]
    }
   ],
   "source": [
    "with open(file_path, 'r') as file:\n",
    "    csv_reader = file.readlines()\n",
    "    header = csv_reader[0].strip().split(',')\n",
    "    rows = csv_reader[1:]\n",
    "    parsed_row = lambda row : dict(zip(header, row.strip().split(',')))\n",
    "    parsed_data = [parsed_row(row) for row in rows]\n",
    "    unique_data = [dict(t) for t in set(tuple(d.items()) for d in parsed_data)]\n",
    "    print(unique_data[0:5])"
   ]
  },
  {
   "cell_type": "markdown",
   "id": "fee126a6-546b-4fb9-8bbb-7ca6bf5429d8",
   "metadata": {},
   "source": [
    "#### Here we're calling the create_table function to create the DATAINFO table and insert the parsed data into the table using cursor"
   ]
  },
  {
   "cell_type": "code",
   "execution_count": 7,
   "id": "d1e95e05",
   "metadata": {},
   "outputs": [
    {
     "name": "stdout",
     "output_type": "stream",
     "text": [
      "[(1, '08/29/2021', '05/30/2020'), (2, '06/23/2021', '09/01/2020'), (3, '06/29/2020', '06/11/2020'), (4, '07/01/2021', '03/05/2020'), (5, '08/09/2021', '03/21/2021')]\n"
     ]
    }
   ],
   "source": [
    "create_table(create_normalized, create_date_table)\n",
    "date_list = [(row['extract_date'], row['specimen_date']) for row in unique_data]\n",
    "\n",
    "# Assuming conn_non_normalized is the connection object and cursor_non_normalized is the cursor object\n",
    "cursor_normalized.executemany(\"\"\"\n",
    "    INSERT INTO DATEINFO \n",
    "    ([EXTRACT_DATE], [SPECIMEN_DATE]) \n",
    "    VALUES (?,?);\n",
    "\"\"\", date_list)\n",
    "create_normalized.commit()\n",
    "cursor_normalized.execute(\"SELECT * FROM DATEINFO\")\n",
    "data = cursor_normalized.fetchall()\n",
    "print(data[0:5])"
   ]
  },
  {
   "cell_type": "markdown",
   "id": "03aaac35-481d-4bb2-bbd3-a10025a01ce0",
   "metadata": {},
   "source": [
    "#### Here we're calling the create_table function to create the TESTINFO table and insert the parsed data into the table using cursor"
   ]
  },
  {
   "cell_type": "code",
   "execution_count": 8,
   "id": "145a5521",
   "metadata": {},
   "outputs": [
    {
     "data": {
      "text/plain": [
       "<sqlite3.Cursor at 0x103f2e740>"
      ]
     },
     "execution_count": 8,
     "metadata": {},
     "output_type": "execute_result"
    }
   ],
   "source": [
    "create_table(create_normalized, create_test_table)\n",
    "test_list = [(row['Number_tested']) for row in unique_data]\n",
    "test_list= [[i] for i in test_list]\n",
    "cursor_normalized.executemany(\"\"\"\n",
    "    INSERT INTO TESTINFO \n",
    "    (NUMBER_TESTED) \n",
    "    VALUES (?);\n",
    "    \"\"\",test_list)"
   ]
  },
  {
   "cell_type": "code",
   "execution_count": 9,
   "id": "b9a9a1f2",
   "metadata": {},
   "outputs": [
    {
     "name": "stdout",
     "output_type": "stream",
     "text": [
      "[(1, 14630), (2, 1), (3, 16437), (4, 19338), (5, 19051)]\n"
     ]
    }
   ],
   "source": [
    "cursor_normalized.execute(\"SELECT * FROM TESTINFO\")\n",
    "data = cursor_normalized.fetchall()\n",
    "print(data[0:5])"
   ]
  },
  {
   "cell_type": "markdown",
   "id": "ea265444-a842-476b-ba99-1fe5069bd2e2",
   "metadata": {},
   "source": [
    "#### Here we're calling the create_table function to create the CASESINFO table and insert the parsed data into the table using cursor"
   ]
  },
  {
   "cell_type": "code",
   "execution_count": 10,
   "id": "459ecbf7",
   "metadata": {},
   "outputs": [
    {
     "data": {
      "text/plain": [
       "<sqlite3.Cursor at 0x103f2e740>"
      ]
     },
     "execution_count": 10,
     "metadata": {},
     "output_type": "execute_result"
    }
   ],
   "source": [
    "create_table(create_normalized, create_cases_table)\n",
    "cases_list = [(row['Number_confirmed'], row['Number_hospitalized'], row['Number_deaths']) for row in unique_data]\n",
    "cursor_normalized.executemany(\"\"\"\n",
    "   INSERT INTO CASESINFO \n",
    "   ([NUMBER_CONFIRMED], [NUMBER_HOSPITALIZED], [NUMBER_DEATHS]) \n",
    "   VALUES (?,?,?);\n",
    "\"\"\", cases_list)"
   ]
  },
  {
   "cell_type": "code",
   "execution_count": 11,
   "id": "af4fd17e",
   "metadata": {},
   "outputs": [
    {
     "name": "stdout",
     "output_type": "stream",
     "text": [
      "[(1, 595, 61, 8), (2, 0, 1, 0), (3, 361, 31, 4), (4, 281, 25, 3), (5, 1522, 136, 26)]\n"
     ]
    }
   ],
   "source": [
    "cursor_normalized.execute(\"SELECT * FROM CASESINFO\")\n",
    "data = cursor_normalized.fetchall()\n",
    "print(data[0:5])"
   ]
  },
  {
   "cell_type": "markdown",
   "id": "52301a76-3aff-4c08-bebc-24ce05c3bb3f",
   "metadata": {},
   "source": [
    "#### Executed a SQL query using joins and stored in the Pandas DataFrame df\n",
    "#### Each row in the DataFrame corresponds to a record retrieved from the SQL query.\n",
    "#### The columns in the DataFrame match the selected columns from the SQL query.\n",
    "\n",
    "#### This dataset preserves historical records and source data changes, so each extract date reflects the current copy of the data as of that date. For example, an extract date of 5/1/2020 and extract date of 5/2/2020 will both contain all records as they were as of that extract date."
   ]
  },
  {
   "cell_type": "code",
   "execution_count": 12,
   "id": "87e27ad2",
   "metadata": {},
   "outputs": [],
   "source": [
    "import pandas as pd\n",
    "df = pd.read_sql_query(\"\"\"\n",
    "    SELECT D.TEST_ID, D.EXTRACT_DATE, D.SPECIMEN_DATE, T.NUMBER_TESTED, C.NUMBER_CONFIRMED, C.NUMBER_HOSPITALIZED, C.NUMBER_DEATHS\n",
    "    FROM DATEINFO D\n",
    "    JOIN TESTINFO T ON D.TEST_ID = T.TEST_ID\n",
    "    JOIN CASESINFO C ON D.TEST_ID = C.TEST_ID\n",
    "    GROUP BY D.EXTRACT_DATE\n",
    "    ORDER BY D.TEST_ID ASC\n",
    "\"\"\", create_normalized)"
   ]
  },
  {
   "cell_type": "markdown",
   "id": "9dc28317-acd4-46a7-9bc2-d9e8c90a2857",
   "metadata": {},
   "source": [
    "#### Use df.head() which is a Pandas method used to display the first few rows of a DataFrame"
   ]
  },
  {
   "cell_type": "code",
   "execution_count": 13,
   "id": "169ba7ba",
   "metadata": {},
   "outputs": [
    {
     "data": {
      "text/html": [
       "<div>\n",
       "<style scoped>\n",
       "    .dataframe tbody tr th:only-of-type {\n",
       "        vertical-align: middle;\n",
       "    }\n",
       "\n",
       "    .dataframe tbody tr th {\n",
       "        vertical-align: top;\n",
       "    }\n",
       "\n",
       "    .dataframe thead th {\n",
       "        text-align: right;\n",
       "    }\n",
       "</style>\n",
       "<table border=\"1\" class=\"dataframe\">\n",
       "  <thead>\n",
       "    <tr style=\"text-align: right;\">\n",
       "      <th></th>\n",
       "      <th>TEST_ID</th>\n",
       "      <th>EXTRACT_DATE</th>\n",
       "      <th>SPECIMEN_DATE</th>\n",
       "      <th>NUMBER_TESTED</th>\n",
       "      <th>NUMBER_CONFIRMED</th>\n",
       "      <th>NUMBER_HOSPITALIZED</th>\n",
       "      <th>NUMBER_DEATHS</th>\n",
       "    </tr>\n",
       "  </thead>\n",
       "  <tbody>\n",
       "    <tr>\n",
       "      <th>0</th>\n",
       "      <td>1</td>\n",
       "      <td>08/29/2021</td>\n",
       "      <td>05/30/2020</td>\n",
       "      <td>14630</td>\n",
       "      <td>595</td>\n",
       "      <td>61</td>\n",
       "      <td>8</td>\n",
       "    </tr>\n",
       "    <tr>\n",
       "      <th>1</th>\n",
       "      <td>2</td>\n",
       "      <td>06/23/2021</td>\n",
       "      <td>09/01/2020</td>\n",
       "      <td>1</td>\n",
       "      <td>0</td>\n",
       "      <td>1</td>\n",
       "      <td>0</td>\n",
       "    </tr>\n",
       "    <tr>\n",
       "      <th>2</th>\n",
       "      <td>3</td>\n",
       "      <td>06/29/2020</td>\n",
       "      <td>06/11/2020</td>\n",
       "      <td>16437</td>\n",
       "      <td>361</td>\n",
       "      <td>31</td>\n",
       "      <td>4</td>\n",
       "    </tr>\n",
       "    <tr>\n",
       "      <th>3</th>\n",
       "      <td>4</td>\n",
       "      <td>07/01/2021</td>\n",
       "      <td>03/05/2020</td>\n",
       "      <td>19338</td>\n",
       "      <td>281</td>\n",
       "      <td>25</td>\n",
       "      <td>3</td>\n",
       "    </tr>\n",
       "    <tr>\n",
       "      <th>4</th>\n",
       "      <td>5</td>\n",
       "      <td>08/09/2021</td>\n",
       "      <td>03/21/2021</td>\n",
       "      <td>19051</td>\n",
       "      <td>1522</td>\n",
       "      <td>136</td>\n",
       "      <td>26</td>\n",
       "    </tr>\n",
       "  </tbody>\n",
       "</table>\n",
       "</div>"
      ],
      "text/plain": [
       "   TEST_ID EXTRACT_DATE SPECIMEN_DATE  NUMBER_TESTED  NUMBER_CONFIRMED  \\\n",
       "0        1   08/29/2021    05/30/2020          14630               595   \n",
       "1        2   06/23/2021    09/01/2020              1                 0   \n",
       "2        3   06/29/2020    06/11/2020          16437               361   \n",
       "3        4   07/01/2021    03/05/2020          19338               281   \n",
       "4        5   08/09/2021    03/21/2021          19051              1522   \n",
       "\n",
       "   NUMBER_HOSPITALIZED  NUMBER_DEATHS  \n",
       "0                   61              8  \n",
       "1                    1              0  \n",
       "2                   31              4  \n",
       "3                   25              3  \n",
       "4                  136             26  "
      ]
     },
     "execution_count": 13,
     "metadata": {},
     "output_type": "execute_result"
    }
   ],
   "source": [
    "df.head()"
   ]
  },
  {
   "cell_type": "markdown",
   "id": "a8415b1d-a6f7-45da-80c0-eace7a311b94",
   "metadata": {},
   "source": [
    "#### Use df.tail() which is a Pandas method used to display the last few rows of a DataFrame"
   ]
  },
  {
   "cell_type": "code",
   "execution_count": 14,
   "id": "3397447f-123f-41af-82f2-5ef91afee267",
   "metadata": {},
   "outputs": [
    {
     "data": {
      "text/html": [
       "<div>\n",
       "<style scoped>\n",
       "    .dataframe tbody tr th:only-of-type {\n",
       "        vertical-align: middle;\n",
       "    }\n",
       "\n",
       "    .dataframe tbody tr th {\n",
       "        vertical-align: top;\n",
       "    }\n",
       "\n",
       "    .dataframe thead th {\n",
       "        text-align: right;\n",
       "    }\n",
       "</style>\n",
       "<table border=\"1\" class=\"dataframe\">\n",
       "  <thead>\n",
       "    <tr style=\"text-align: right;\">\n",
       "      <th></th>\n",
       "      <th>TEST_ID</th>\n",
       "      <th>EXTRACT_DATE</th>\n",
       "      <th>SPECIMEN_DATE</th>\n",
       "      <th>NUMBER_TESTED</th>\n",
       "      <th>NUMBER_CONFIRMED</th>\n",
       "      <th>NUMBER_HOSPITALIZED</th>\n",
       "      <th>NUMBER_DEATHS</th>\n",
       "    </tr>\n",
       "  </thead>\n",
       "  <tbody>\n",
       "    <tr>\n",
       "      <th>527</th>\n",
       "      <td>6859</td>\n",
       "      <td>05/02/2020</td>\n",
       "      <td>03/14/2020</td>\n",
       "      <td>15037</td>\n",
       "      <td>1352</td>\n",
       "      <td>132</td>\n",
       "      <td>25</td>\n",
       "    </tr>\n",
       "    <tr>\n",
       "      <th>528</th>\n",
       "      <td>7336</td>\n",
       "      <td>07/27/2020</td>\n",
       "      <td>06/18/2020</td>\n",
       "      <td>19825</td>\n",
       "      <td>1796</td>\n",
       "      <td>153</td>\n",
       "      <td>25</td>\n",
       "    </tr>\n",
       "    <tr>\n",
       "      <th>529</th>\n",
       "      <td>7924</td>\n",
       "      <td>05/31/2020</td>\n",
       "      <td>03/23/2020</td>\n",
       "      <td>8089</td>\n",
       "      <td>248</td>\n",
       "      <td>26</td>\n",
       "      <td>2</td>\n",
       "    </tr>\n",
       "    <tr>\n",
       "      <th>530</th>\n",
       "      <td>8099</td>\n",
       "      <td>04/02/2020</td>\n",
       "      <td>02/27/2020</td>\n",
       "      <td>6742</td>\n",
       "      <td>2682</td>\n",
       "      <td>574</td>\n",
       "      <td>217</td>\n",
       "    </tr>\n",
       "    <tr>\n",
       "      <th>531</th>\n",
       "      <td>8797</td>\n",
       "      <td>03/31/2020</td>\n",
       "      <td>03/09/2020</td>\n",
       "      <td>4</td>\n",
       "      <td>0</td>\n",
       "      <td>0</td>\n",
       "      <td>0</td>\n",
       "    </tr>\n",
       "  </tbody>\n",
       "</table>\n",
       "</div>"
      ],
      "text/plain": [
       "     TEST_ID EXTRACT_DATE SPECIMEN_DATE  NUMBER_TESTED  NUMBER_CONFIRMED  \\\n",
       "527     6859   05/02/2020    03/14/2020          15037              1352   \n",
       "528     7336   07/27/2020    06/18/2020          19825              1796   \n",
       "529     7924   05/31/2020    03/23/2020           8089               248   \n",
       "530     8099   04/02/2020    02/27/2020           6742              2682   \n",
       "531     8797   03/31/2020    03/09/2020              4                 0   \n",
       "\n",
       "     NUMBER_HOSPITALIZED  NUMBER_DEATHS  \n",
       "527                  132             25  \n",
       "528                  153             25  \n",
       "529                   26              2  \n",
       "530                  574            217  \n",
       "531                    0              0  "
      ]
     },
     "execution_count": 14,
     "metadata": {},
     "output_type": "execute_result"
    }
   ],
   "source": [
    "df.tail()"
   ]
  },
  {
   "cell_type": "code",
   "execution_count": 15,
   "id": "044109d7",
   "metadata": {
    "scrolled": true
   },
   "outputs": [
    {
     "data": {
      "text/plain": [
       "(532, 7)"
      ]
     },
     "execution_count": 15,
     "metadata": {},
     "output_type": "execute_result"
    }
   ],
   "source": [
    "df.shape"
   ]
  },
  {
   "cell_type": "markdown",
   "id": "fe9c2fb3-8456-4027-a8a0-b9266289ac66",
   "metadata": {},
   "source": [
    "#### Checking for null values and missing values in the dataframe"
   ]
  },
  {
   "cell_type": "code",
   "execution_count": 16,
   "id": "8fe03c90",
   "metadata": {},
   "outputs": [
    {
     "data": {
      "text/plain": [
       "TEST_ID                0\n",
       "EXTRACT_DATE           0\n",
       "SPECIMEN_DATE          0\n",
       "NUMBER_TESTED          0\n",
       "NUMBER_CONFIRMED       0\n",
       "NUMBER_HOSPITALIZED    0\n",
       "NUMBER_DEATHS          0\n",
       "dtype: int64"
      ]
     },
     "execution_count": 16,
     "metadata": {},
     "output_type": "execute_result"
    }
   ],
   "source": [
    "df.isnull().sum()"
   ]
  },
  {
   "cell_type": "code",
   "execution_count": 17,
   "id": "fd8add97",
   "metadata": {
    "scrolled": true
   },
   "outputs": [
    {
     "data": {
      "text/plain": [
       "TEST_ID                0\n",
       "EXTRACT_DATE           0\n",
       "SPECIMEN_DATE          0\n",
       "NUMBER_TESTED          0\n",
       "NUMBER_CONFIRMED       0\n",
       "NUMBER_HOSPITALIZED    0\n",
       "NUMBER_DEATHS          0\n",
       "dtype: int64"
      ]
     },
     "execution_count": 17,
     "metadata": {},
     "output_type": "execute_result"
    }
   ],
   "source": [
    "df.isna().sum()"
   ]
  },
  {
   "cell_type": "markdown",
   "id": "e83a7281-18a8-48c5-ba21-cfa5889c10b9",
   "metadata": {},
   "source": [
    "#### Tryng to fill the missing values with NAN but in our case we don't have any missing values"
   ]
  },
  {
   "cell_type": "code",
   "execution_count": 18,
   "id": "b6e4a592",
   "metadata": {
    "scrolled": true
   },
   "outputs": [
    {
     "data": {
      "text/html": [
       "<div>\n",
       "<style scoped>\n",
       "    .dataframe tbody tr th:only-of-type {\n",
       "        vertical-align: middle;\n",
       "    }\n",
       "\n",
       "    .dataframe tbody tr th {\n",
       "        vertical-align: top;\n",
       "    }\n",
       "\n",
       "    .dataframe thead th {\n",
       "        text-align: right;\n",
       "    }\n",
       "</style>\n",
       "<table border=\"1\" class=\"dataframe\">\n",
       "  <thead>\n",
       "    <tr style=\"text-align: right;\">\n",
       "      <th></th>\n",
       "      <th>TEST_ID</th>\n",
       "      <th>EXTRACT_DATE</th>\n",
       "      <th>SPECIMEN_DATE</th>\n",
       "      <th>NUMBER_TESTED</th>\n",
       "      <th>NUMBER_CONFIRMED</th>\n",
       "      <th>NUMBER_HOSPITALIZED</th>\n",
       "      <th>NUMBER_DEATHS</th>\n",
       "    </tr>\n",
       "  </thead>\n",
       "  <tbody>\n",
       "    <tr>\n",
       "      <th>0</th>\n",
       "      <td>1</td>\n",
       "      <td>08/29/2021</td>\n",
       "      <td>05/30/2020</td>\n",
       "      <td>14630</td>\n",
       "      <td>595</td>\n",
       "      <td>61</td>\n",
       "      <td>8</td>\n",
       "    </tr>\n",
       "    <tr>\n",
       "      <th>1</th>\n",
       "      <td>2</td>\n",
       "      <td>06/23/2021</td>\n",
       "      <td>09/01/2020</td>\n",
       "      <td>1</td>\n",
       "      <td>0</td>\n",
       "      <td>1</td>\n",
       "      <td>0</td>\n",
       "    </tr>\n",
       "    <tr>\n",
       "      <th>2</th>\n",
       "      <td>3</td>\n",
       "      <td>06/29/2020</td>\n",
       "      <td>06/11/2020</td>\n",
       "      <td>16437</td>\n",
       "      <td>361</td>\n",
       "      <td>31</td>\n",
       "      <td>4</td>\n",
       "    </tr>\n",
       "    <tr>\n",
       "      <th>3</th>\n",
       "      <td>4</td>\n",
       "      <td>07/01/2021</td>\n",
       "      <td>03/05/2020</td>\n",
       "      <td>19338</td>\n",
       "      <td>281</td>\n",
       "      <td>25</td>\n",
       "      <td>3</td>\n",
       "    </tr>\n",
       "    <tr>\n",
       "      <th>4</th>\n",
       "      <td>5</td>\n",
       "      <td>08/09/2021</td>\n",
       "      <td>03/21/2021</td>\n",
       "      <td>19051</td>\n",
       "      <td>1522</td>\n",
       "      <td>136</td>\n",
       "      <td>26</td>\n",
       "    </tr>\n",
       "    <tr>\n",
       "      <th>...</th>\n",
       "      <td>...</td>\n",
       "      <td>...</td>\n",
       "      <td>...</td>\n",
       "      <td>...</td>\n",
       "      <td>...</td>\n",
       "      <td>...</td>\n",
       "      <td>...</td>\n",
       "    </tr>\n",
       "    <tr>\n",
       "      <th>527</th>\n",
       "      <td>6859</td>\n",
       "      <td>05/02/2020</td>\n",
       "      <td>03/14/2020</td>\n",
       "      <td>15037</td>\n",
       "      <td>1352</td>\n",
       "      <td>132</td>\n",
       "      <td>25</td>\n",
       "    </tr>\n",
       "    <tr>\n",
       "      <th>528</th>\n",
       "      <td>7336</td>\n",
       "      <td>07/27/2020</td>\n",
       "      <td>06/18/2020</td>\n",
       "      <td>19825</td>\n",
       "      <td>1796</td>\n",
       "      <td>153</td>\n",
       "      <td>25</td>\n",
       "    </tr>\n",
       "    <tr>\n",
       "      <th>529</th>\n",
       "      <td>7924</td>\n",
       "      <td>05/31/2020</td>\n",
       "      <td>03/23/2020</td>\n",
       "      <td>8089</td>\n",
       "      <td>248</td>\n",
       "      <td>26</td>\n",
       "      <td>2</td>\n",
       "    </tr>\n",
       "    <tr>\n",
       "      <th>530</th>\n",
       "      <td>8099</td>\n",
       "      <td>04/02/2020</td>\n",
       "      <td>02/27/2020</td>\n",
       "      <td>6742</td>\n",
       "      <td>2682</td>\n",
       "      <td>574</td>\n",
       "      <td>217</td>\n",
       "    </tr>\n",
       "    <tr>\n",
       "      <th>531</th>\n",
       "      <td>8797</td>\n",
       "      <td>03/31/2020</td>\n",
       "      <td>03/09/2020</td>\n",
       "      <td>4</td>\n",
       "      <td>0</td>\n",
       "      <td>0</td>\n",
       "      <td>0</td>\n",
       "    </tr>\n",
       "  </tbody>\n",
       "</table>\n",
       "<p>532 rows × 7 columns</p>\n",
       "</div>"
      ],
      "text/plain": [
       "     TEST_ID EXTRACT_DATE SPECIMEN_DATE  NUMBER_TESTED  NUMBER_CONFIRMED  \\\n",
       "0          1   08/29/2021    05/30/2020          14630               595   \n",
       "1          2   06/23/2021    09/01/2020              1                 0   \n",
       "2          3   06/29/2020    06/11/2020          16437               361   \n",
       "3          4   07/01/2021    03/05/2020          19338               281   \n",
       "4          5   08/09/2021    03/21/2021          19051              1522   \n",
       "..       ...          ...           ...            ...               ...   \n",
       "527     6859   05/02/2020    03/14/2020          15037              1352   \n",
       "528     7336   07/27/2020    06/18/2020          19825              1796   \n",
       "529     7924   05/31/2020    03/23/2020           8089               248   \n",
       "530     8099   04/02/2020    02/27/2020           6742              2682   \n",
       "531     8797   03/31/2020    03/09/2020              4                 0   \n",
       "\n",
       "     NUMBER_HOSPITALIZED  NUMBER_DEATHS  \n",
       "0                     61              8  \n",
       "1                      1              0  \n",
       "2                     31              4  \n",
       "3                     25              3  \n",
       "4                    136             26  \n",
       "..                   ...            ...  \n",
       "527                  132             25  \n",
       "528                  153             25  \n",
       "529                   26              2  \n",
       "530                  574            217  \n",
       "531                    0              0  \n",
       "\n",
       "[532 rows x 7 columns]"
      ]
     },
     "execution_count": 18,
     "metadata": {},
     "output_type": "execute_result"
    }
   ],
   "source": [
    "df.fillna(value='NAN', method=None, axis=None, inplace=False, limit=None, downcast=None)"
   ]
  },
  {
   "cell_type": "code",
   "execution_count": 19,
   "id": "db8ae8ff",
   "metadata": {},
   "outputs": [],
   "source": [
    "df['EXTRACT_DATE'] = pd.to_datetime(df['EXTRACT_DATE'], errors='coerce')\n",
    "df['SPECIMEN_DATE'] = pd.to_datetime(df['SPECIMEN_DATE'], errors='coerce')"
   ]
  },
  {
   "cell_type": "code",
   "execution_count": 20,
   "id": "564a03e5",
   "metadata": {},
   "outputs": [
    {
     "data": {
      "text/html": [
       "<div>\n",
       "<style scoped>\n",
       "    .dataframe tbody tr th:only-of-type {\n",
       "        vertical-align: middle;\n",
       "    }\n",
       "\n",
       "    .dataframe tbody tr th {\n",
       "        vertical-align: top;\n",
       "    }\n",
       "\n",
       "    .dataframe thead th {\n",
       "        text-align: right;\n",
       "    }\n",
       "</style>\n",
       "<table border=\"1\" class=\"dataframe\">\n",
       "  <thead>\n",
       "    <tr style=\"text-align: right;\">\n",
       "      <th></th>\n",
       "      <th>TEST_ID</th>\n",
       "      <th>EXTRACT_DATE</th>\n",
       "      <th>SPECIMEN_DATE</th>\n",
       "      <th>NUMBER_TESTED</th>\n",
       "      <th>NUMBER_CONFIRMED</th>\n",
       "      <th>NUMBER_HOSPITALIZED</th>\n",
       "      <th>NUMBER_DEATHS</th>\n",
       "    </tr>\n",
       "  </thead>\n",
       "  <tbody>\n",
       "    <tr>\n",
       "      <th>527</th>\n",
       "      <td>6859</td>\n",
       "      <td>2020-05-02</td>\n",
       "      <td>2020-03-14</td>\n",
       "      <td>15037</td>\n",
       "      <td>1352</td>\n",
       "      <td>132</td>\n",
       "      <td>25</td>\n",
       "    </tr>\n",
       "    <tr>\n",
       "      <th>528</th>\n",
       "      <td>7336</td>\n",
       "      <td>2020-07-27</td>\n",
       "      <td>2020-06-18</td>\n",
       "      <td>19825</td>\n",
       "      <td>1796</td>\n",
       "      <td>153</td>\n",
       "      <td>25</td>\n",
       "    </tr>\n",
       "    <tr>\n",
       "      <th>529</th>\n",
       "      <td>7924</td>\n",
       "      <td>2020-05-31</td>\n",
       "      <td>2020-03-23</td>\n",
       "      <td>8089</td>\n",
       "      <td>248</td>\n",
       "      <td>26</td>\n",
       "      <td>2</td>\n",
       "    </tr>\n",
       "    <tr>\n",
       "      <th>530</th>\n",
       "      <td>8099</td>\n",
       "      <td>2020-04-02</td>\n",
       "      <td>2020-02-27</td>\n",
       "      <td>6742</td>\n",
       "      <td>2682</td>\n",
       "      <td>574</td>\n",
       "      <td>217</td>\n",
       "    </tr>\n",
       "    <tr>\n",
       "      <th>531</th>\n",
       "      <td>8797</td>\n",
       "      <td>2020-03-31</td>\n",
       "      <td>2020-03-09</td>\n",
       "      <td>4</td>\n",
       "      <td>0</td>\n",
       "      <td>0</td>\n",
       "      <td>0</td>\n",
       "    </tr>\n",
       "  </tbody>\n",
       "</table>\n",
       "</div>"
      ],
      "text/plain": [
       "     TEST_ID EXTRACT_DATE SPECIMEN_DATE  NUMBER_TESTED  NUMBER_CONFIRMED  \\\n",
       "527     6859   2020-05-02    2020-03-14          15037              1352   \n",
       "528     7336   2020-07-27    2020-06-18          19825              1796   \n",
       "529     7924   2020-05-31    2020-03-23           8089               248   \n",
       "530     8099   2020-04-02    2020-02-27           6742              2682   \n",
       "531     8797   2020-03-31    2020-03-09              4                 0   \n",
       "\n",
       "     NUMBER_HOSPITALIZED  NUMBER_DEATHS  \n",
       "527                  132             25  \n",
       "528                  153             25  \n",
       "529                   26              2  \n",
       "530                  574            217  \n",
       "531                    0              0  "
      ]
     },
     "execution_count": 20,
     "metadata": {},
     "output_type": "execute_result"
    }
   ],
   "source": [
    "df = df.dropna(subset=['EXTRACT_DATE'])\n",
    "df = df.dropna(subset=['SPECIMEN_DATE'])\n",
    "df.tail()"
   ]
  },
  {
   "cell_type": "code",
   "execution_count": 21,
   "id": "42ec4ee2",
   "metadata": {},
   "outputs": [],
   "source": [
    "df['EXTRACT_MONTH'] = df['EXTRACT_DATE'].dt.month\n",
    "df['EXTRACT_YEAR'] = df['EXTRACT_DATE'].dt.year"
   ]
  },
  {
   "cell_type": "code",
   "execution_count": 22,
   "id": "4c13f433",
   "metadata": {},
   "outputs": [
    {
     "data": {
      "text/html": [
       "<div>\n",
       "<style scoped>\n",
       "    .dataframe tbody tr th:only-of-type {\n",
       "        vertical-align: middle;\n",
       "    }\n",
       "\n",
       "    .dataframe tbody tr th {\n",
       "        vertical-align: top;\n",
       "    }\n",
       "\n",
       "    .dataframe thead th {\n",
       "        text-align: right;\n",
       "    }\n",
       "</style>\n",
       "<table border=\"1\" class=\"dataframe\">\n",
       "  <thead>\n",
       "    <tr style=\"text-align: right;\">\n",
       "      <th></th>\n",
       "      <th>TEST_ID</th>\n",
       "      <th>EXTRACT_DATE</th>\n",
       "      <th>SPECIMEN_DATE</th>\n",
       "      <th>NUMBER_TESTED</th>\n",
       "      <th>NUMBER_CONFIRMED</th>\n",
       "      <th>NUMBER_HOSPITALIZED</th>\n",
       "      <th>NUMBER_DEATHS</th>\n",
       "      <th>EXTRACT_MONTH</th>\n",
       "      <th>EXTRACT_YEAR</th>\n",
       "      <th>SPECIMEN_MONTH</th>\n",
       "      <th>SPECIMEN_YEAR</th>\n",
       "    </tr>\n",
       "  </thead>\n",
       "  <tbody>\n",
       "    <tr>\n",
       "      <th>0</th>\n",
       "      <td>1</td>\n",
       "      <td>2021-08-29</td>\n",
       "      <td>2020-05-30</td>\n",
       "      <td>14630</td>\n",
       "      <td>595</td>\n",
       "      <td>61</td>\n",
       "      <td>8</td>\n",
       "      <td>8</td>\n",
       "      <td>2021</td>\n",
       "      <td>5</td>\n",
       "      <td>2020</td>\n",
       "    </tr>\n",
       "    <tr>\n",
       "      <th>1</th>\n",
       "      <td>2</td>\n",
       "      <td>2021-06-23</td>\n",
       "      <td>2020-09-01</td>\n",
       "      <td>1</td>\n",
       "      <td>0</td>\n",
       "      <td>1</td>\n",
       "      <td>0</td>\n",
       "      <td>6</td>\n",
       "      <td>2021</td>\n",
       "      <td>9</td>\n",
       "      <td>2020</td>\n",
       "    </tr>\n",
       "    <tr>\n",
       "      <th>2</th>\n",
       "      <td>3</td>\n",
       "      <td>2020-06-29</td>\n",
       "      <td>2020-06-11</td>\n",
       "      <td>16437</td>\n",
       "      <td>361</td>\n",
       "      <td>31</td>\n",
       "      <td>4</td>\n",
       "      <td>6</td>\n",
       "      <td>2020</td>\n",
       "      <td>6</td>\n",
       "      <td>2020</td>\n",
       "    </tr>\n",
       "    <tr>\n",
       "      <th>3</th>\n",
       "      <td>4</td>\n",
       "      <td>2021-07-01</td>\n",
       "      <td>2020-03-05</td>\n",
       "      <td>19338</td>\n",
       "      <td>281</td>\n",
       "      <td>25</td>\n",
       "      <td>3</td>\n",
       "      <td>7</td>\n",
       "      <td>2021</td>\n",
       "      <td>3</td>\n",
       "      <td>2020</td>\n",
       "    </tr>\n",
       "    <tr>\n",
       "      <th>4</th>\n",
       "      <td>5</td>\n",
       "      <td>2021-08-09</td>\n",
       "      <td>2021-03-21</td>\n",
       "      <td>19051</td>\n",
       "      <td>1522</td>\n",
       "      <td>136</td>\n",
       "      <td>26</td>\n",
       "      <td>8</td>\n",
       "      <td>2021</td>\n",
       "      <td>3</td>\n",
       "      <td>2021</td>\n",
       "    </tr>\n",
       "    <tr>\n",
       "      <th>...</th>\n",
       "      <td>...</td>\n",
       "      <td>...</td>\n",
       "      <td>...</td>\n",
       "      <td>...</td>\n",
       "      <td>...</td>\n",
       "      <td>...</td>\n",
       "      <td>...</td>\n",
       "      <td>...</td>\n",
       "      <td>...</td>\n",
       "      <td>...</td>\n",
       "      <td>...</td>\n",
       "    </tr>\n",
       "    <tr>\n",
       "      <th>527</th>\n",
       "      <td>6859</td>\n",
       "      <td>2020-05-02</td>\n",
       "      <td>2020-03-14</td>\n",
       "      <td>15037</td>\n",
       "      <td>1352</td>\n",
       "      <td>132</td>\n",
       "      <td>25</td>\n",
       "      <td>5</td>\n",
       "      <td>2020</td>\n",
       "      <td>3</td>\n",
       "      <td>2020</td>\n",
       "    </tr>\n",
       "    <tr>\n",
       "      <th>528</th>\n",
       "      <td>7336</td>\n",
       "      <td>2020-07-27</td>\n",
       "      <td>2020-06-18</td>\n",
       "      <td>19825</td>\n",
       "      <td>1796</td>\n",
       "      <td>153</td>\n",
       "      <td>25</td>\n",
       "      <td>7</td>\n",
       "      <td>2020</td>\n",
       "      <td>6</td>\n",
       "      <td>2020</td>\n",
       "    </tr>\n",
       "    <tr>\n",
       "      <th>529</th>\n",
       "      <td>7924</td>\n",
       "      <td>2020-05-31</td>\n",
       "      <td>2020-03-23</td>\n",
       "      <td>8089</td>\n",
       "      <td>248</td>\n",
       "      <td>26</td>\n",
       "      <td>2</td>\n",
       "      <td>5</td>\n",
       "      <td>2020</td>\n",
       "      <td>3</td>\n",
       "      <td>2020</td>\n",
       "    </tr>\n",
       "    <tr>\n",
       "      <th>530</th>\n",
       "      <td>8099</td>\n",
       "      <td>2020-04-02</td>\n",
       "      <td>2020-02-27</td>\n",
       "      <td>6742</td>\n",
       "      <td>2682</td>\n",
       "      <td>574</td>\n",
       "      <td>217</td>\n",
       "      <td>4</td>\n",
       "      <td>2020</td>\n",
       "      <td>2</td>\n",
       "      <td>2020</td>\n",
       "    </tr>\n",
       "    <tr>\n",
       "      <th>531</th>\n",
       "      <td>8797</td>\n",
       "      <td>2020-03-31</td>\n",
       "      <td>2020-03-09</td>\n",
       "      <td>4</td>\n",
       "      <td>0</td>\n",
       "      <td>0</td>\n",
       "      <td>0</td>\n",
       "      <td>3</td>\n",
       "      <td>2020</td>\n",
       "      <td>3</td>\n",
       "      <td>2020</td>\n",
       "    </tr>\n",
       "  </tbody>\n",
       "</table>\n",
       "<p>532 rows × 11 columns</p>\n",
       "</div>"
      ],
      "text/plain": [
       "     TEST_ID EXTRACT_DATE SPECIMEN_DATE  NUMBER_TESTED  NUMBER_CONFIRMED  \\\n",
       "0          1   2021-08-29    2020-05-30          14630               595   \n",
       "1          2   2021-06-23    2020-09-01              1                 0   \n",
       "2          3   2020-06-29    2020-06-11          16437               361   \n",
       "3          4   2021-07-01    2020-03-05          19338               281   \n",
       "4          5   2021-08-09    2021-03-21          19051              1522   \n",
       "..       ...          ...           ...            ...               ...   \n",
       "527     6859   2020-05-02    2020-03-14          15037              1352   \n",
       "528     7336   2020-07-27    2020-06-18          19825              1796   \n",
       "529     7924   2020-05-31    2020-03-23           8089               248   \n",
       "530     8099   2020-04-02    2020-02-27           6742              2682   \n",
       "531     8797   2020-03-31    2020-03-09              4                 0   \n",
       "\n",
       "     NUMBER_HOSPITALIZED  NUMBER_DEATHS  EXTRACT_MONTH  EXTRACT_YEAR  \\\n",
       "0                     61              8              8          2021   \n",
       "1                      1              0              6          2021   \n",
       "2                     31              4              6          2020   \n",
       "3                     25              3              7          2021   \n",
       "4                    136             26              8          2021   \n",
       "..                   ...            ...            ...           ...   \n",
       "527                  132             25              5          2020   \n",
       "528                  153             25              7          2020   \n",
       "529                   26              2              5          2020   \n",
       "530                  574            217              4          2020   \n",
       "531                    0              0              3          2020   \n",
       "\n",
       "     SPECIMEN_MONTH  SPECIMEN_YEAR  \n",
       "0                 5           2020  \n",
       "1                 9           2020  \n",
       "2                 6           2020  \n",
       "3                 3           2020  \n",
       "4                 3           2021  \n",
       "..              ...            ...  \n",
       "527               3           2020  \n",
       "528               6           2020  \n",
       "529               3           2020  \n",
       "530               2           2020  \n",
       "531               3           2020  \n",
       "\n",
       "[532 rows x 11 columns]"
      ]
     },
     "execution_count": 22,
     "metadata": {},
     "output_type": "execute_result"
    }
   ],
   "source": [
    "df['SPECIMEN_MONTH'] = df['SPECIMEN_DATE'].dt.month\n",
    "df['SPECIMEN_YEAR'] = df['SPECIMEN_DATE'].dt.year\n",
    "df"
   ]
  },
  {
   "cell_type": "code",
   "execution_count": 23,
   "id": "b1c01f59",
   "metadata": {},
   "outputs": [],
   "source": [
    "import matplotlib.pyplot as plt\n",
    "import seaborn as sns\n",
    "import ipywidgets as widgets\n",
    "from IPython.display import display"
   ]
  },
  {
   "cell_type": "code",
   "execution_count": 24,
   "id": "a698a9a8",
   "metadata": {},
   "outputs": [],
   "source": [
    "def analyze_data(analysis_type, month, year):\n",
    "    filtered_df = df[(df['EXTRACT_MONTH'] == month) & (df['EXTRACT_YEAR'] == year)]\n",
    "    if analysis_type == 'Plot Test Results':\n",
    "        sns.lineplot(x=filtered_df['EXTRACT_DATE'].dt.day, y='NUMBER_TESTED', data=filtered_df)\n",
    "        plt.title('Test Results Over Time')\n",
    "        plt.show()\n",
    "    elif analysis_type == 'Plot Confirmed Cases':\n",
    "        sns.barplot(x=filtered_df['EXTRACT_DATE'].dt.day, y='NUMBER_CONFIRMED', data=filtered_df, errorbar=None)\n",
    "        plt.title('Confirmed Cases Over Time')\n",
    "        plt.show()\n",
    "    elif analysis_type == 'Plot Hospitalized Cases':\n",
    "        sns.barplot(x=filtered_df['EXTRACT_DATE'].dt.day, y='NUMBER_HOSPITALIZED', data=filtered_df, errorbar=None)\n",
    "        plt.title('Hospitalized Cases Over Time')\n",
    "        plt.show()\n",
    "    elif analysis_type == 'Plot Deaths':\n",
    "        sns.barplot(x=filtered_df['EXTRACT_DATE'].dt.day, y='NUMBER_DEATHS', data=filtered_df, errorbar=None)\n",
    "        plt.title('Deaths Over Time')\n",
    "        plt.show()\n",
    "    elif analysis_type == 'Summary Statistics':\n",
    "        summary_stats = filtered_df.describe()\n",
    "        display(summary_stats)"
   ]
  },
  {
   "cell_type": "code",
   "execution_count": 25,
   "id": "6afabd50-55b0-4f96-a18a-5e373875d432",
   "metadata": {},
   "outputs": [],
   "source": [
    "month_dropdown = widgets.Dropdown(\n",
    "    options=df['EXTRACT_MONTH'].unique(),\n",
    "    description='Month:'\n",
    ")\n",
    "\n",
    "year_dropdown = widgets.Dropdown(\n",
    "    options=df['EXTRACT_YEAR'].unique(),\n",
    "    description='Year:'\n",
    ")"
   ]
  },
  {
   "cell_type": "code",
   "execution_count": 26,
   "id": "6b0f9603",
   "metadata": {},
   "outputs": [
    {
     "data": {
      "application/vnd.jupyter.widget-view+json": {
       "model_id": "674572acf1454fe9a25b80ab844dfe99",
       "version_major": 2,
       "version_minor": 0
      },
      "text/plain": [
       "interactive(children=(ToggleButtons(description='Select Analysis:', options=('Plot Test Results', 'Plot Confir…"
      ]
     },
     "execution_count": 26,
     "metadata": {},
     "output_type": "execute_result"
    }
   ],
   "source": [
    "analysis_buttons = widgets.ToggleButtons(\n",
    "    options=['Plot Test Results', 'Plot Confirmed Cases', 'Plot Hospitalized Cases', 'Plot Deaths', 'Summary Statistics'],\n",
    "    description='Select Analysis:'\n",
    ")\n",
    "widgets.interactive(analyze_data, analysis_type=analysis_buttons, month=month_dropdown, year=year_dropdown)"
   ]
  },
  {
   "cell_type": "markdown",
   "id": "6553b05e-8342-4c82-b779-a26673f7339a",
   "metadata": {},
   "source": [
    "- Line Plot (Test Results Over Time):\n",
    "    Look for trends in the number of tests conducted over time.\n",
    "    Identify periods of increase or decrease in testing activity.\n",
    "    Note any spikes or drops in the number of tests, which might indicate specific events or changes.\n",
    "\n",
    "- Bar Plot (Confirmed Cases Over Time):\n",
    "    Examine the daily variations in the number of confirmed cases, no.of deaths and no. of people hospitalized\n",
    "    Identify any sudden increases in confirmed cases, which might indicate outbreaks or changes in testing strategies.\n",
    "    Look for patterns in the data that might reveal insights into the spread of the virus.\n",
    "\n",
    "- Summary Statistics:\n",
    "    Examine key statistics such as mean, median, minimum, maximum, and quartiles.\n",
    "    Understand the central tendency and variability in the data."
   ]
  },
  {
   "cell_type": "code",
   "execution_count": 27,
   "id": "3a5495fd-c1f6-4753-bb75-5945fa567db3",
   "metadata": {},
   "outputs": [],
   "source": [
    "def analyze_data(analysis_type, start_date, end_date):\n",
    "    # Convert date strings to datetime objects\n",
    "    start_date = pd.to_datetime(start_date)\n",
    "    end_date = pd.to_datetime(end_date)\n",
    "    \n",
    "    # Filter data for the selected date range\n",
    "    filtered_df = df[(df['EXTRACT_DATE'] >= start_date) & (df['EXTRACT_DATE'] <= end_date)]\n",
    "    \n",
    "    if analysis_type == 'Pie Chart':\n",
    "        plt.pie(filtered_df[['NUMBER_CONFIRMED', 'NUMBER_HOSPITALIZED', 'NUMBER_DEATHS']].sum(),\n",
    "                labels=['Confirmed', 'Hospitalized', 'Deaths'],\n",
    "                autopct='%1.1f%%', startangle=140)\n",
    "        plt.title('Distribution of Cases')\n",
    "        plt.show()\n",
    "    elif analysis_type == 'Box Plot':\n",
    "        sns.boxplot(data=filtered_df[['NUMBER_CONFIRMED', 'NUMBER_HOSPITALIZED', 'NUMBER_DEATHS']])\n",
    "        plt.title('Box Plot of Cases')\n",
    "        plt.show()"
   ]
  },
  {
   "cell_type": "code",
   "execution_count": 28,
   "id": "d6fed428-91d7-4dd9-b441-db3aab67e647",
   "metadata": {},
   "outputs": [],
   "source": [
    "start_date_picker = widgets.DatePicker(\n",
    "    description='Start Date:',\n",
    "    value=pd.to_datetime('2021-01-01')\n",
    ")\n",
    "\n",
    "end_date_picker = widgets.DatePicker(\n",
    "    description='End Date:',\n",
    "    value=pd.to_datetime('2021-01-05')\n",
    ")"
   ]
  },
  {
   "cell_type": "code",
   "execution_count": 29,
   "id": "7e4a0a14-9004-47b8-bc7d-f6f15613ba9c",
   "metadata": {},
   "outputs": [],
   "source": [
    "analysis_buttons = widgets.ToggleButtons(\n",
    "    options=['Pie Chart', 'Box Plot'],\n",
    "    description='Select Analysis:'\n",
    ")"
   ]
  },
  {
   "cell_type": "code",
   "execution_count": 30,
   "id": "d96e2704-e6e9-4fec-9926-b8bd936e0ee2",
   "metadata": {},
   "outputs": [
    {
     "data": {
      "application/vnd.jupyter.widget-view+json": {
       "model_id": "490aa95de2de4176b407182ce872a7e2",
       "version_major": 2,
       "version_minor": 0
      },
      "text/plain": [
       "interactive(children=(ToggleButtons(description='Select Analysis:', options=('Pie Chart', 'Box Plot'), value='…"
      ]
     },
     "execution_count": 30,
     "metadata": {},
     "output_type": "execute_result"
    }
   ],
   "source": [
    "widgets.interactive(analyze_data, analysis_type=analysis_buttons, start_date=start_date_picker, end_date=end_date_picker)"
   ]
  },
  {
   "cell_type": "markdown",
   "id": "f98245e9-0092-4894-8b0e-396c28e633b8",
   "metadata": {
    "scrolled": true
   },
   "source": [
    "- Pie Chart (Distribution of Cases):\n",
    "    Understand the proportion of confirmed cases, hospitalized cases, and deaths.\n",
    "    Identify the percentage of cases in each category relative to the total.\n",
    "    \n",
    "- Box Plot (Box Plot of Cases):\n",
    "    Assess the distribution of cases by examining the box plot.\n",
    "    Identify the median, quartiles, and any outliers.\n",
    "    Understand the spread and variability in the number of confirmed, hospitalized, and death cases.\n",
    "    "
   ]
  },
  {
   "cell_type": "code",
   "execution_count": null,
   "id": "e282d034",
   "metadata": {},
   "outputs": [],
   "source": []
  }
 ],
 "metadata": {
  "kernelspec": {
   "display_name": "Python 3 (ipykernel)",
   "language": "python",
   "name": "python3"
  },
  "language_info": {
   "codemirror_mode": {
    "name": "ipython",
    "version": 3
   },
   "file_extension": ".py",
   "mimetype": "text/x-python",
   "name": "python",
   "nbconvert_exporter": "python",
   "pygments_lexer": "ipython3",
   "version": "3.11.4"
  }
 },
 "nbformat": 4,
 "nbformat_minor": 5
}
